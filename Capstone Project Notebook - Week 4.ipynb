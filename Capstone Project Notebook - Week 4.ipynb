{
 "cells": [
  {
   "cell_type": "markdown",
   "metadata": {},
   "source": [
    "# WHERE SHOULD WE OPEN A RESTAURANT IN HO CHI MINH CITY?"
   ]
  },
  {
   "cell_type": "markdown",
   "metadata": {},
   "source": [
    "## 1. INTRODUCTION\n",
    "Ho Chi Minh City is one of the two biggest cities in Vietnam with a population of over 10 million. Furthermore, Ho Chi Minh City is the financial center of Vietnam and has been attracting lots of investment capital from domestic investors as well as foreign investors.\n",
    "    \n",
    "In recent years, there has been a lot of famous restaurant brands investing into Ho Chi Minh City and rapidly expanding their businesses.\n",
    "    \n",
    "Therefore, if an investor wants to entry food market in Ho Chi Minh City, they need to take into account some factors such as: housing price, density of population and number of competitors.  So that the reason, I do this project to help potential investors determine and answer the question: Where should we open a restaurant in Ho Chi Minh City?"
   ]
  },
  {
   "cell_type": "markdown",
   "metadata": {},
   "source": [
    "## 2. DATA AND METHODOLOGY"
   ]
  },
  {
   "cell_type": "markdown",
   "metadata": {},
   "source": [
    "### 2.1. DATA\n",
    "     "
   ]
  },
  {
   "cell_type": "markdown",
   "metadata": {},
   "source": [
    " Base on report of Anh-Thi DINH (https://dinhanhthi.com/files/capstone_project.html), my data will be used in this project as follows: \n",
    " + List of districts in Ho Chi Minh City from Wikipedia. <https://en.wikipedia.org/wiki/Ho_Chi_Minh_City>\n",
    " + List of housing prices in Ho Chi Minh City from Mogi https://mogi.vn/gia-nha-dat\n",
    " + I spent time searching the latitude & longitude of each districts in Ho Chi Minh City from the website: https://nominatim.openstreetmap.org/ and then create an excel file to use."
   ]
  },
  {
   "cell_type": "markdown",
   "metadata": {},
   "source": [
    "### 2.2. METHODOLOGY"
   ]
  },
  {
   "cell_type": "markdown",
   "metadata": {},
   "source": [
    "* Step 1: I will collect data from the above sources with BeautifulSoup package.\n",
    "* Step 2: Clean and rearrange data in a form of DataFrame.\n",
    "* Step 3: Calculate Density of population for each district.\n",
    "* Step 4: Use Foursquare API to explore the venues in each district and segment the districts based on them.\n",
    "* Step 5: Filter Category to only focus on Food-related categories.\n",
    "* Step 6: Manipulate data and plot map.\n",
    "* Step 7: Conclusion.\n"
   ]
  },
  {
   "cell_type": "code",
   "execution_count": null,
   "metadata": {},
   "outputs": [],
   "source": []
  },
  {
   "cell_type": "code",
   "execution_count": null,
   "metadata": {},
   "outputs": [],
   "source": []
  },
  {
   "cell_type": "code",
   "execution_count": null,
   "metadata": {},
   "outputs": [],
   "source": []
  }
 ],
 "metadata": {
  "kernelspec": {
   "display_name": "Python 3",
   "language": "python",
   "name": "python3"
  },
  "language_info": {
   "codemirror_mode": {
    "name": "ipython",
    "version": 3
   },
   "file_extension": ".py",
   "mimetype": "text/x-python",
   "name": "python",
   "nbconvert_exporter": "python",
   "pygments_lexer": "ipython3",
   "version": "3.7.6"
  }
 },
 "nbformat": 4,
 "nbformat_minor": 4
}
